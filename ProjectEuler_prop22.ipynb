{
 "cells": [
  {
   "cell_type": "code",
   "execution_count": 74,
   "id": "4f238732-d85b-43ef-bb23-3017662e40fb",
   "metadata": {},
   "outputs": [],
   "source": [
    "import os\n",
    "import numpy as np\n",
    "import pandas as pd"
   ]
  },
  {
   "cell_type": "code",
   "execution_count": null,
   "id": "16df9c1d-7a6a-4c51-8151-832ca11afce5",
   "metadata": {},
   "outputs": [],
   "source": [
    "with open(\"prob22names.txt\", \"r\") as f:\n",
    "    lines = f.read().splitlines()\n",
    "    print(lines)"
   ]
  },
  {
   "cell_type": "code",
   "execution_count": 29,
   "id": "cbf0acd8-2db4-4b77-b3f0-1f7cce7c3875",
   "metadata": {},
   "outputs": [
    {
     "ename": "TypeError",
     "evalue": "index expected at least 1 argument, got 0",
     "output_type": "error",
     "traceback": [
      "\u001b[1;31m---------------------------------------------------------------------------\u001b[0m",
      "\u001b[1;31mTypeError\u001b[0m                                 Traceback (most recent call last)",
      "Input \u001b[1;32mIn [40]\u001b[0m, in \u001b[0;36m<cell line: 10>\u001b[1;34m()\u001b[0m\n\u001b[0;32m      7\u001b[0m names_list\u001b[38;5;241m.\u001b[39msort()\n\u001b[0;32m      9\u001b[0m \u001b[38;5;66;03m# These names appear to be non-duplicating, so can use the index to allocate scores\u001b[39;00m\n\u001b[1;32m---> 10\u001b[0m names_list[\u001b[38;5;124m'\u001b[39m\u001b[38;5;124mindex\u001b[39m\u001b[38;5;124m'\u001b[39m] \u001b[38;5;241m=\u001b[39m \u001b[43mnames_list\u001b[49m\u001b[38;5;241;43m.\u001b[39;49m\u001b[43mindex\u001b[49m\u001b[43m(\u001b[49m\u001b[43m)\u001b[49m\n",
      "\u001b[1;31mTypeError\u001b[0m: index expected at least 1 argument, got 0"
     ]
    }
   ],
   "source": [
    "file = open(\"prob22names.txt\", \"r\")\n",
    "names = file.read().replace('\"', '')\n",
    "file.close()\n",
    "\n",
    "\n",
    "names_list = names.split(sep=\",\")\n",
    "names_list.sort()\n",
    "\n",
    "# These names appear to be non-duplicating, so can use the index to allocate scores\n"
   ]
  },
  {
   "cell_type": "code",
   "execution_count": 66,
   "id": "cea9a614-5080-4564-909a-90bca865b7d8",
   "metadata": {},
   "outputs": [
    {
     "name": "stdout",
     "output_type": "stream",
     "text": [
      "['AARON' 'ABBEY' 'ABBIE' ... 'ZULA' 'ZULEMA' 'ZULMA']\n",
      "<class 'numpy.ndarray'>\n"
     ]
    }
   ],
   "source": [
    "# Converting these to a numpy array\n",
    "names_np = np.array(names_list)\n",
    "\n",
    "print(names_np)\n",
    "print(type(names_np))\n",
    "\n",
    "names_np.append(\n",
    "\n",
    "# Want to map A to 1, Z to 26"
   ]
  },
  {
   "cell_type": "code",
   "execution_count": 41,
   "id": "51bf91e7-5d61-4ea1-b156-aac8d3be1ad3",
   "metadata": {},
   "outputs": [
    {
     "data": {
      "text/plain": [
       "65"
      ]
     },
     "execution_count": 41,
     "metadata": {},
     "output_type": "execute_result"
    }
   ],
   "source": [
    "ord(\"A\")"
   ]
  },
  {
   "cell_type": "code",
   "execution_count": 109,
   "id": "280a3c56-b56e-4d24-b986-04cf28a7322f",
   "metadata": {},
   "outputs": [
    {
     "name": "stdout",
     "output_type": "stream",
     "text": [
      "      index        0   1  ranking  total_score\n",
      "0         0    AARON  49        1           49\n",
      "1         0    ABBEY  35        2           70\n",
      "2         0    ABBIE  19        3           57\n",
      "3         0     ABBY  30        4          120\n",
      "4         0    ABDUL  40        5          200\n",
      "...     ...      ...  ..      ...          ...\n",
      "5158      0     ZORA  60     5159       309540\n",
      "5159      0  ZORAIDA  74     5160       381840\n",
      "5160      0     ZULA  60     5161       309660\n",
      "5161      0   ZULEMA  78     5162       402636\n",
      "5162      0    ZULMA  73     5163       376899\n",
      "\n",
      "[5163 rows x 5 columns]\n",
      "Total namescore is: 871198282\n"
     ]
    }
   ],
   "source": [
    "#word = names_np[0]\n",
    "names_scores = pd.DataFrame()\n",
    "for word in names_np:\n",
    "    # print(word)\n",
    "    word_score = 0\n",
    "    for letter in word:\n",
    "        letter_score = ord(letter) - 64 \n",
    "        word_score = word_score + letter_score#\n",
    "    #     print(letter, letter_score, word_score)\n",
    "    # print(word_score)\n",
    "    #\n",
    "    word_row = pd.DataFrame([[word, word_score]])\n",
    "    names_scores = pd.concat([names_scores, word_row])\n",
    "\n",
    "names_scores = names_scores.reset_index()\n",
    "names_scores['ranking'] = names_scores.index + 1\n",
    "names_scores['total_score'] = names_scores[1] * names_scores['ranking']\n",
    "print(names_scores)\n",
    "\n",
    "print(\"Total namescore is: \" + str(sum(names_scores['total_score'])))\n",
    "    "
   ]
  },
  {
   "cell_type": "code",
   "execution_count": 83,
   "id": "9a4e51ad-b41d-4d2c-8d63-074e774d88b2",
   "metadata": {},
   "outputs": [
    {
     "data": {
      "text/html": [
       "<div>\n",
       "<style scoped>\n",
       "    .dataframe tbody tr th:only-of-type {\n",
       "        vertical-align: middle;\n",
       "    }\n",
       "\n",
       "    .dataframe tbody tr th {\n",
       "        vertical-align: top;\n",
       "    }\n",
       "\n",
       "    .dataframe thead th {\n",
       "        text-align: right;\n",
       "    }\n",
       "</style>\n",
       "<table border=\"1\" class=\"dataframe\">\n",
       "  <thead>\n",
       "    <tr style=\"text-align: right;\">\n",
       "      <th></th>\n",
       "      <th>0</th>\n",
       "      <th>1</th>\n",
       "    </tr>\n",
       "  </thead>\n",
       "  <tbody>\n",
       "    <tr>\n",
       "      <th>0</th>\n",
       "      <td>bob</td>\n",
       "      <td>32</td>\n",
       "    </tr>\n",
       "  </tbody>\n",
       "</table>\n",
       "</div>"
      ],
      "text/plain": [
       "     0   1\n",
       "0  bob  32"
      ]
     },
     "execution_count": 83,
     "metadata": {},
     "output_type": "execute_result"
    }
   ],
   "source": [
    "pd.DataFrame([[\"bob\", 32]])"
   ]
  },
  {
   "cell_type": "code",
   "execution_count": null,
   "id": "11eca405-fb47-4a35-8e81-d9d3622c4a7f",
   "metadata": {},
   "outputs": [],
   "source": []
  }
 ],
 "metadata": {
  "kernelspec": {
   "display_name": "Python 3 (ipykernel)",
   "language": "python",
   "name": "python3"
  },
  "language_info": {
   "codemirror_mode": {
    "name": "ipython",
    "version": 3
   },
   "file_extension": ".py",
   "mimetype": "text/x-python",
   "name": "python",
   "nbconvert_exporter": "python",
   "pygments_lexer": "ipython3",
   "version": "3.9.5"
  }
 },
 "nbformat": 4,
 "nbformat_minor": 5
}
